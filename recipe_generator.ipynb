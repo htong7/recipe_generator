{
 "cells": [
  {
   "cell_type": "code",
   "execution_count": 3,
   "metadata": {},
   "outputs": [],
   "source": [
    "import pandas as pd\n",
    "import numpy as np\n",
    "import os"
   ]
  },
  {
   "cell_type": "code",
   "execution_count": 4,
   "metadata": {},
   "outputs": [],
   "source": [
    "df = pd.read_csv(\"/Users/felixtong/Desktop/public_repo/recipe_generator/dataset/full_dataset.csv\")\n",
    "\n",
    "df = df[:100]"
   ]
  },
  {
   "cell_type": "code",
   "execution_count": 5,
   "metadata": {},
   "outputs": [
    {
     "data": {
      "text/html": [
       "<div>\n",
       "<style scoped>\n",
       "    .dataframe tbody tr th:only-of-type {\n",
       "        vertical-align: middle;\n",
       "    }\n",
       "\n",
       "    .dataframe tbody tr th {\n",
       "        vertical-align: top;\n",
       "    }\n",
       "\n",
       "    .dataframe thead th {\n",
       "        text-align: right;\n",
       "    }\n",
       "</style>\n",
       "<table border=\"1\" class=\"dataframe\">\n",
       "  <thead>\n",
       "    <tr style=\"text-align: right;\">\n",
       "      <th></th>\n",
       "      <th>Unnamed: 0</th>\n",
       "      <th>title</th>\n",
       "      <th>ingredients</th>\n",
       "      <th>directions</th>\n",
       "      <th>link</th>\n",
       "      <th>source</th>\n",
       "      <th>NER</th>\n",
       "    </tr>\n",
       "  </thead>\n",
       "  <tbody>\n",
       "    <tr>\n",
       "      <th>0</th>\n",
       "      <td>0</td>\n",
       "      <td>No-Bake Nut Cookies</td>\n",
       "      <td>[\"1 c. firmly packed brown sugar\", \"1/2 c. eva...</td>\n",
       "      <td>[\"In a heavy 2-quart saucepan, mix brown sugar...</td>\n",
       "      <td>www.cookbooks.com/Recipe-Details.aspx?id=44874</td>\n",
       "      <td>Gathered</td>\n",
       "      <td>[\"brown sugar\", \"milk\", \"vanilla\", \"nuts\", \"bu...</td>\n",
       "    </tr>\n",
       "    <tr>\n",
       "      <th>1</th>\n",
       "      <td>1</td>\n",
       "      <td>Jewell Ball'S Chicken</td>\n",
       "      <td>[\"1 small jar chipped beef, cut up\", \"4 boned ...</td>\n",
       "      <td>[\"Place chipped beef on bottom of baking dish....</td>\n",
       "      <td>www.cookbooks.com/Recipe-Details.aspx?id=699419</td>\n",
       "      <td>Gathered</td>\n",
       "      <td>[\"beef\", \"chicken breasts\", \"cream of mushroom...</td>\n",
       "    </tr>\n",
       "    <tr>\n",
       "      <th>2</th>\n",
       "      <td>2</td>\n",
       "      <td>Creamy Corn</td>\n",
       "      <td>[\"2 (16 oz.) pkg. frozen corn\", \"1 (8 oz.) pkg...</td>\n",
       "      <td>[\"In a slow cooker, combine all ingredients. C...</td>\n",
       "      <td>www.cookbooks.com/Recipe-Details.aspx?id=10570</td>\n",
       "      <td>Gathered</td>\n",
       "      <td>[\"frozen corn\", \"cream cheese\", \"butter\", \"gar...</td>\n",
       "    </tr>\n",
       "    <tr>\n",
       "      <th>3</th>\n",
       "      <td>3</td>\n",
       "      <td>Chicken Funny</td>\n",
       "      <td>[\"1 large whole chicken\", \"2 (10 1/2 oz.) cans...</td>\n",
       "      <td>[\"Boil and debone chicken.\", \"Put bite size pi...</td>\n",
       "      <td>www.cookbooks.com/Recipe-Details.aspx?id=897570</td>\n",
       "      <td>Gathered</td>\n",
       "      <td>[\"chicken\", \"chicken gravy\", \"cream of mushroo...</td>\n",
       "    </tr>\n",
       "    <tr>\n",
       "      <th>4</th>\n",
       "      <td>4</td>\n",
       "      <td>Reeses Cups(Candy)</td>\n",
       "      <td>[\"1 c. peanut butter\", \"3/4 c. graham cracker ...</td>\n",
       "      <td>[\"Combine first four ingredients and press in ...</td>\n",
       "      <td>www.cookbooks.com/Recipe-Details.aspx?id=659239</td>\n",
       "      <td>Gathered</td>\n",
       "      <td>[\"peanut butter\", \"graham cracker crumbs\", \"bu...</td>\n",
       "    </tr>\n",
       "    <tr>\n",
       "      <th>...</th>\n",
       "      <td>...</td>\n",
       "      <td>...</td>\n",
       "      <td>...</td>\n",
       "      <td>...</td>\n",
       "      <td>...</td>\n",
       "      <td>...</td>\n",
       "      <td>...</td>\n",
       "    </tr>\n",
       "    <tr>\n",
       "      <th>95</th>\n",
       "      <td>95</td>\n",
       "      <td>Baked Beans</td>\n",
       "      <td>[\"3 (1 lb.) cans pork and beans\", \"1/2 c. bell...</td>\n",
       "      <td>[\"Cook onions and bell pepper in oil until oni...</td>\n",
       "      <td>www.cookbooks.com/Recipe-Details.aspx?id=775763</td>\n",
       "      <td>Gathered</td>\n",
       "      <td>[\"pork\", \"bell pepper\", \"onions\", \"catsup\", \"b...</td>\n",
       "    </tr>\n",
       "    <tr>\n",
       "      <th>96</th>\n",
       "      <td>96</td>\n",
       "      <td>Sweet-N-Sour Chicken</td>\n",
       "      <td>[\"2 c. diced cooked chicken\", \"2 Tbsp. shorten...</td>\n",
       "      <td>[\"Saute onion in 2 tablespoons shortening.\", \"...</td>\n",
       "      <td>www.cookbooks.com/Recipe-Details.aspx?id=228506</td>\n",
       "      <td>Gathered</td>\n",
       "      <td>[\"chicken\", \"shortening\", \"onion\", \"carrot chu...</td>\n",
       "    </tr>\n",
       "    <tr>\n",
       "      <th>97</th>\n",
       "      <td>97</td>\n",
       "      <td>Ambrosia</td>\n",
       "      <td>[\"8 to 10 juicy oranges, peeled and diced\", \"1...</td>\n",
       "      <td>[\"Combine all ingredients. Chill overnight.\", ...</td>\n",
       "      <td>www.cookbooks.com/Recipe-Details.aspx?id=342478</td>\n",
       "      <td>Gathered</td>\n",
       "      <td>[\"oranges\", \"moist coconut\", \"pecans\", \"cherri...</td>\n",
       "    </tr>\n",
       "    <tr>\n",
       "      <th>98</th>\n",
       "      <td>98</td>\n",
       "      <td>Crazy Peanut Butter Cookies</td>\n",
       "      <td>[\"1 c. creamy peanut butter\", \"1 c. sugar\", \"1...</td>\n",
       "      <td>[\"Mix together and roll into balls; flatten wi...</td>\n",
       "      <td>www.cookbooks.com/Recipe-Details.aspx?id=892363</td>\n",
       "      <td>Gathered</td>\n",
       "      <td>[\"peanut butter\", \"sugar\", \"egg\"]</td>\n",
       "    </tr>\n",
       "    <tr>\n",
       "      <th>99</th>\n",
       "      <td>99</td>\n",
       "      <td>Brickle Bars</td>\n",
       "      <td>[\"1 box yellow cake mix\", \"2 eggs\", \"1/3 c. so...</td>\n",
       "      <td>[\"Mix together with a fork:\", \"cake mix, 1 egg...</td>\n",
       "      <td>www.cookbooks.com/Recipe-Details.aspx?id=351194</td>\n",
       "      <td>Gathered</td>\n",
       "      <td>[\"yellow cake mix\", \"eggs\", \"margarine\", \"milk...</td>\n",
       "    </tr>\n",
       "  </tbody>\n",
       "</table>\n",
       "<p>100 rows × 7 columns</p>\n",
       "</div>"
      ],
      "text/plain": [
       "    Unnamed: 0                        title  \\\n",
       "0            0          No-Bake Nut Cookies   \n",
       "1            1        Jewell Ball'S Chicken   \n",
       "2            2                  Creamy Corn   \n",
       "3            3                Chicken Funny   \n",
       "4            4         Reeses Cups(Candy)     \n",
       "..         ...                          ...   \n",
       "95          95                  Baked Beans   \n",
       "96          96         Sweet-N-Sour Chicken   \n",
       "97          97                     Ambrosia   \n",
       "98          98  Crazy Peanut Butter Cookies   \n",
       "99          99                 Brickle Bars   \n",
       "\n",
       "                                          ingredients  \\\n",
       "0   [\"1 c. firmly packed brown sugar\", \"1/2 c. eva...   \n",
       "1   [\"1 small jar chipped beef, cut up\", \"4 boned ...   \n",
       "2   [\"2 (16 oz.) pkg. frozen corn\", \"1 (8 oz.) pkg...   \n",
       "3   [\"1 large whole chicken\", \"2 (10 1/2 oz.) cans...   \n",
       "4   [\"1 c. peanut butter\", \"3/4 c. graham cracker ...   \n",
       "..                                                ...   \n",
       "95  [\"3 (1 lb.) cans pork and beans\", \"1/2 c. bell...   \n",
       "96  [\"2 c. diced cooked chicken\", \"2 Tbsp. shorten...   \n",
       "97  [\"8 to 10 juicy oranges, peeled and diced\", \"1...   \n",
       "98  [\"1 c. creamy peanut butter\", \"1 c. sugar\", \"1...   \n",
       "99  [\"1 box yellow cake mix\", \"2 eggs\", \"1/3 c. so...   \n",
       "\n",
       "                                           directions  \\\n",
       "0   [\"In a heavy 2-quart saucepan, mix brown sugar...   \n",
       "1   [\"Place chipped beef on bottom of baking dish....   \n",
       "2   [\"In a slow cooker, combine all ingredients. C...   \n",
       "3   [\"Boil and debone chicken.\", \"Put bite size pi...   \n",
       "4   [\"Combine first four ingredients and press in ...   \n",
       "..                                                ...   \n",
       "95  [\"Cook onions and bell pepper in oil until oni...   \n",
       "96  [\"Saute onion in 2 tablespoons shortening.\", \"...   \n",
       "97  [\"Combine all ingredients. Chill overnight.\", ...   \n",
       "98  [\"Mix together and roll into balls; flatten wi...   \n",
       "99  [\"Mix together with a fork:\", \"cake mix, 1 egg...   \n",
       "\n",
       "                                               link    source  \\\n",
       "0    www.cookbooks.com/Recipe-Details.aspx?id=44874  Gathered   \n",
       "1   www.cookbooks.com/Recipe-Details.aspx?id=699419  Gathered   \n",
       "2    www.cookbooks.com/Recipe-Details.aspx?id=10570  Gathered   \n",
       "3   www.cookbooks.com/Recipe-Details.aspx?id=897570  Gathered   \n",
       "4   www.cookbooks.com/Recipe-Details.aspx?id=659239  Gathered   \n",
       "..                                              ...       ...   \n",
       "95  www.cookbooks.com/Recipe-Details.aspx?id=775763  Gathered   \n",
       "96  www.cookbooks.com/Recipe-Details.aspx?id=228506  Gathered   \n",
       "97  www.cookbooks.com/Recipe-Details.aspx?id=342478  Gathered   \n",
       "98  www.cookbooks.com/Recipe-Details.aspx?id=892363  Gathered   \n",
       "99  www.cookbooks.com/Recipe-Details.aspx?id=351194  Gathered   \n",
       "\n",
       "                                                  NER  \n",
       "0   [\"brown sugar\", \"milk\", \"vanilla\", \"nuts\", \"bu...  \n",
       "1   [\"beef\", \"chicken breasts\", \"cream of mushroom...  \n",
       "2   [\"frozen corn\", \"cream cheese\", \"butter\", \"gar...  \n",
       "3   [\"chicken\", \"chicken gravy\", \"cream of mushroo...  \n",
       "4   [\"peanut butter\", \"graham cracker crumbs\", \"bu...  \n",
       "..                                                ...  \n",
       "95  [\"pork\", \"bell pepper\", \"onions\", \"catsup\", \"b...  \n",
       "96  [\"chicken\", \"shortening\", \"onion\", \"carrot chu...  \n",
       "97  [\"oranges\", \"moist coconut\", \"pecans\", \"cherri...  \n",
       "98                  [\"peanut butter\", \"sugar\", \"egg\"]  \n",
       "99  [\"yellow cake mix\", \"eggs\", \"margarine\", \"milk...  \n",
       "\n",
       "[100 rows x 7 columns]"
      ]
     },
     "execution_count": 5,
     "metadata": {},
     "output_type": "execute_result"
    }
   ],
   "source": [
    "df"
   ]
  },
  {
   "cell_type": "code",
   "execution_count": 6,
   "metadata": {},
   "outputs": [],
   "source": [
    "df2 = df.copy()"
   ]
  },
  {
   "cell_type": "code",
   "execution_count": 7,
   "metadata": {},
   "outputs": [
    {
     "name": "stdout",
     "output_type": "stream",
     "text": [
      "<class 'pandas.core.frame.DataFrame'>\n",
      "RangeIndex: 100 entries, 0 to 99\n",
      "Data columns (total 7 columns):\n",
      " #   Column       Non-Null Count  Dtype \n",
      "---  ------       --------------  ----- \n",
      " 0   Unnamed: 0   100 non-null    int64 \n",
      " 1   title        100 non-null    object\n",
      " 2   ingredients  100 non-null    object\n",
      " 3   directions   100 non-null    object\n",
      " 4   link         100 non-null    object\n",
      " 5   source       100 non-null    object\n",
      " 6   NER          100 non-null    object\n",
      "dtypes: int64(1), object(6)\n",
      "memory usage: 5.6+ KB\n"
     ]
    }
   ],
   "source": [
    "df.info()"
   ]
  },
  {
   "cell_type": "code",
   "execution_count": 8,
   "metadata": {},
   "outputs": [],
   "source": [
    "import pandas as pd\n",
    "from sklearn.model_selection import train_test_split\n",
    "from sentence_transformers import SentenceTransformer\n",
    "\n",
    "model = SentenceTransformer('all-MiniLM-L6-v2')\n",
    "\n",
    "# Define the tokenize_and_encode function\n",
    "def tokenize_and_encode(text):\n",
    "    embedding = model.encode([text])\n",
    "    return embedding[0]\n",
    "\n",
    "# Tokenize and encode the columns\n",
    "# df2['title'] = df2['title'].apply(tokenize_and_encode)\n",
    "df2['ingredients'] = df2['ingredients'].apply(tokenize_and_encode)\n",
    "df2['directions'] = df2['directions'].apply(tokenize_and_encode)\n",
    "df2['NER'] = df2['NER'].apply(tokenize_and_encode)\n",
    "# Split the dataset\n",
    "train_df, test_df = train_test_split(df2, test_size=0.2)\n",
    "\n",
    "# Define the specific file path \n",
    "file_path = '/Users/felixtong/Desktop/borealis/image_2_recipe' \n",
    "\n",
    "# Save the datasets to the specific file path \n",
    "train_df.to_csv(file_path + 'train.csv', index=False) \n",
    "test_df.to_csv(file_path + 'test.csv', index=False)"
   ]
  },
  {
   "cell_type": "code",
   "execution_count": 9,
   "metadata": {},
   "outputs": [],
   "source": [
    "import pandas as pd\n",
    "from sklearn.model_selection import train_test_split\n",
    "from sentence_transformers import SentenceTransformer\n",
    "\n",
    "model = SentenceTransformer('all-MiniLM-L6-v2')\n",
    "\n",
    "# Define the tokenize_and_encode function\n",
    "def tokenize_and_encode(text):\n",
    "    embedding = model.encode([str(text)])  # Ensure text is converted to string\n",
    "    return embedding[0]\n",
    "\n",
    "# Ensure the columns contain string data\n",
    "df2['ingredients'] = df2['ingredients'].astype(str)\n",
    "df2['directions'] = df2['directions'].astype(str)\n",
    "df2['NER'] = df2['NER'].astype(str)\n",
    "\n",
    "# Tokenize and encode the columns\n",
    "df2['ingredients'] = df2['ingredients'].apply(tokenize_and_encode)\n",
    "df2['directions'] = df2['directions'].apply(tokenize_and_encode)\n",
    "df2['NER'] = df2['NER'].apply(tokenize_and_encode)\n",
    "\n",
    "# Split the dataset\n",
    "train_df, test_df = train_test_split(df2, test_size=0.2)\n",
    "\n",
    "# Define the specific file path\n",
    "file_path = '/Users/felixtong/Desktop/borealis/image_2_recipe/'\n",
    "\n",
    "# Save the datasets to the specific file path\n",
    "train_df.to_csv(file_path + '_train.csv', index=False)\n",
    "test_df.to_csv(file_path + '_test.csv', index=False)\n"
   ]
  },
  {
   "cell_type": "markdown",
   "metadata": {},
   "source": [
    "# Document Embedding: Convert your preprocessed documents into vector representations. This can be done using a sentence transformer or any other document embedding technique1."
   ]
  },
  {
   "cell_type": "code",
   "execution_count": 10,
   "metadata": {},
   "outputs": [],
   "source": [
    "train_df = pd.read_csv(\"/Users/felixtong/Desktop/borealis/image_2_recipe/_train.csv\")"
   ]
  },
  {
   "cell_type": "code",
   "execution_count": 11,
   "metadata": {},
   "outputs": [
    {
     "data": {
      "text/html": [
       "<div>\n",
       "<style scoped>\n",
       "    .dataframe tbody tr th:only-of-type {\n",
       "        vertical-align: middle;\n",
       "    }\n",
       "\n",
       "    .dataframe tbody tr th {\n",
       "        vertical-align: top;\n",
       "    }\n",
       "\n",
       "    .dataframe thead th {\n",
       "        text-align: right;\n",
       "    }\n",
       "</style>\n",
       "<table border=\"1\" class=\"dataframe\">\n",
       "  <thead>\n",
       "    <tr style=\"text-align: right;\">\n",
       "      <th></th>\n",
       "      <th>Unnamed: 0</th>\n",
       "      <th>title</th>\n",
       "      <th>ingredients</th>\n",
       "      <th>directions</th>\n",
       "      <th>link</th>\n",
       "      <th>source</th>\n",
       "      <th>NER</th>\n",
       "    </tr>\n",
       "  </thead>\n",
       "  <tbody>\n",
       "    <tr>\n",
       "      <th>0</th>\n",
       "      <td>66</td>\n",
       "      <td>Frozen Peach Mousse</td>\n",
       "      <td>[-8.00021738e-03 -2.35986561e-02 -2.23189555e-...</td>\n",
       "      <td>[-7.82408379e-03 -1.59431063e-02 -2.07698084e-...</td>\n",
       "      <td>www.cookbooks.com/Recipe-Details.aspx?id=305481</td>\n",
       "      <td>Gathered</td>\n",
       "      <td>[-6.75439136e-03 -3.41107883e-02 -1.63667817e-...</td>\n",
       "    </tr>\n",
       "    <tr>\n",
       "      <th>1</th>\n",
       "      <td>17</td>\n",
       "      <td>Broccoli Salad</td>\n",
       "      <td>[-8.72059260e-03 -3.94399129e-02 -2.19794791e-...</td>\n",
       "      <td>[-1.19547378e-02 -2.99936570e-02 -2.52989028e-...</td>\n",
       "      <td>www.cookbooks.com/Recipe-Details.aspx?id=50992</td>\n",
       "      <td>Gathered</td>\n",
       "      <td>[ 2.25761649e-03 -2.78868638e-02 -2.57845782e-...</td>\n",
       "    </tr>\n",
       "    <tr>\n",
       "      <th>2</th>\n",
       "      <td>19</td>\n",
       "      <td>Eggless Milkless Applesauce Cake</td>\n",
       "      <td>[-1.40289096e-02 -1.23126619e-02 -1.68525297e-...</td>\n",
       "      <td>[-5.07957861e-03 -2.94876974e-02 -1.59510579e-...</td>\n",
       "      <td>www.cookbooks.com/Recipe-Details.aspx?id=343158</td>\n",
       "      <td>Gathered</td>\n",
       "      <td>[-2.08536815e-02 -3.38899754e-02 -2.20170431e-...</td>\n",
       "    </tr>\n",
       "    <tr>\n",
       "      <th>3</th>\n",
       "      <td>59</td>\n",
       "      <td>Bonbon Cookies</td>\n",
       "      <td>[-1.27596408e-02 -2.55134944e-02 -2.72575729e-...</td>\n",
       "      <td>[-2.04736665e-02 -2.62111686e-02 -3.72174196e-...</td>\n",
       "      <td>www.cookbooks.com/Recipe-Details.aspx?id=709387</td>\n",
       "      <td>Gathered</td>\n",
       "      <td>[-4.38933866e-03 -4.19621468e-02 -1.83168538e-...</td>\n",
       "    </tr>\n",
       "    <tr>\n",
       "      <th>4</th>\n",
       "      <td>64</td>\n",
       "      <td>Pineapple Nut Pie</td>\n",
       "      <td>[-7.60620274e-03 -3.22739743e-02 -1.02761788e-...</td>\n",
       "      <td>[-1.33361118e-02 -3.05085331e-02 -1.95819028e-...</td>\n",
       "      <td>www.cookbooks.com/Recipe-Details.aspx?id=512031</td>\n",
       "      <td>Gathered</td>\n",
       "      <td>[-6.13441365e-03 -2.94267274e-02 -7.21940957e-...</td>\n",
       "    </tr>\n",
       "  </tbody>\n",
       "</table>\n",
       "</div>"
      ],
      "text/plain": [
       "   Unnamed: 0                             title  \\\n",
       "0          66               Frozen Peach Mousse   \n",
       "1          17                    Broccoli Salad   \n",
       "2          19  Eggless Milkless Applesauce Cake   \n",
       "3          59                    Bonbon Cookies   \n",
       "4          64                 Pineapple Nut Pie   \n",
       "\n",
       "                                         ingredients  \\\n",
       "0  [-8.00021738e-03 -2.35986561e-02 -2.23189555e-...   \n",
       "1  [-8.72059260e-03 -3.94399129e-02 -2.19794791e-...   \n",
       "2  [-1.40289096e-02 -1.23126619e-02 -1.68525297e-...   \n",
       "3  [-1.27596408e-02 -2.55134944e-02 -2.72575729e-...   \n",
       "4  [-7.60620274e-03 -3.22739743e-02 -1.02761788e-...   \n",
       "\n",
       "                                          directions  \\\n",
       "0  [-7.82408379e-03 -1.59431063e-02 -2.07698084e-...   \n",
       "1  [-1.19547378e-02 -2.99936570e-02 -2.52989028e-...   \n",
       "2  [-5.07957861e-03 -2.94876974e-02 -1.59510579e-...   \n",
       "3  [-2.04736665e-02 -2.62111686e-02 -3.72174196e-...   \n",
       "4  [-1.33361118e-02 -3.05085331e-02 -1.95819028e-...   \n",
       "\n",
       "                                              link    source  \\\n",
       "0  www.cookbooks.com/Recipe-Details.aspx?id=305481  Gathered   \n",
       "1   www.cookbooks.com/Recipe-Details.aspx?id=50992  Gathered   \n",
       "2  www.cookbooks.com/Recipe-Details.aspx?id=343158  Gathered   \n",
       "3  www.cookbooks.com/Recipe-Details.aspx?id=709387  Gathered   \n",
       "4  www.cookbooks.com/Recipe-Details.aspx?id=512031  Gathered   \n",
       "\n",
       "                                                 NER  \n",
       "0  [-6.75439136e-03 -3.41107883e-02 -1.63667817e-...  \n",
       "1  [ 2.25761649e-03 -2.78868638e-02 -2.57845782e-...  \n",
       "2  [-2.08536815e-02 -3.38899754e-02 -2.20170431e-...  \n",
       "3  [-4.38933866e-03 -4.19621468e-02 -1.83168538e-...  \n",
       "4  [-6.13441365e-03 -2.94267274e-02 -7.21940957e-...  "
      ]
     },
     "execution_count": 11,
     "metadata": {},
     "output_type": "execute_result"
    }
   ],
   "source": [
    "train_df.head()"
   ]
  },
  {
   "cell_type": "code",
   "execution_count": 12,
   "metadata": {},
   "outputs": [],
   "source": [
    "# Create document embeddings\n",
    "# title_embeddings = df['title']\n",
    "ingredients_embeddings = df2['ingredients']\n",
    "directions_embeddings = df2['directions']\n"
   ]
  },
  {
   "cell_type": "code",
   "execution_count": 13,
   "metadata": {},
   "outputs": [
    {
     "data": {
      "text/plain": [
       "(0     [0.0013333865, -0.03055944, -0.02473468, 0.032...\n",
       " 1     [-0.0071082036, -0.030481087, -0.021104503, 0....\n",
       " 2     [-0.0014224973, -0.020601586, -0.006690264, 0....\n",
       " 3     [-0.025942218, -0.014679335, -0.038495135, 0.0...\n",
       " 4     [0.015925087, -0.02607367, -0.015349849, 0.001...\n",
       "                             ...                        \n",
       " 95    [-0.015643148, -0.019999662, -0.029448703, 0.0...\n",
       " 96    [-0.019195316, -0.026770856, -0.013558852, 0.0...\n",
       " 97    [-0.020759849, -0.020380558, -0.031161722, 0.0...\n",
       " 98    [-0.0070476173, -0.023335744, -0.01723464, 0.0...\n",
       " 99    [-0.015619733, -0.023915377, -0.022721745, 0.0...\n",
       " Name: ingredients, Length: 100, dtype: object,\n",
       " 0     [0.00093737914, -0.038965646, -0.015961176, 0....\n",
       " 1     [-0.013932902, -0.025582101, -0.031619765, 0.0...\n",
       " 2     [-0.00021807927, -0.008354464, -0.008826048, 0...\n",
       " 3     [-0.013329185, -0.035625063, -0.024679374, 0.0...\n",
       " 4     [-0.025694817, -0.02041334, -0.027101126, 0.02...\n",
       "                             ...                        \n",
       " 95    [-0.011968087, -0.027167, -0.025695799, 0.0231...\n",
       " 96    [-0.0053557586, -0.034277696, -0.02090094, 0.0...\n",
       " 97    [-0.013413908, -0.032264955, -0.013480183, 0.0...\n",
       " 98    [-0.01153268, -0.032948352, -0.022220155, 0.02...\n",
       " 99    [-0.0069792783, -0.033773396, -0.030983848, 0....\n",
       " Name: directions, Length: 100, dtype: object)"
      ]
     },
     "execution_count": 13,
     "metadata": {},
     "output_type": "execute_result"
    }
   ],
   "source": [
    "# title_embeddings, \n",
    "ingredients_embeddings, directions_embeddings"
   ]
  },
  {
   "cell_type": "markdown",
   "metadata": {},
   "source": [
    "# Indexing: Load the document embeddings into a vector database. This will allow you to retrieve relevant documents based on the similarity of their embeddings2."
   ]
  },
  {
   "cell_type": "code",
   "execution_count": 14,
   "metadata": {},
   "outputs": [],
   "source": [
    "from annoy import AnnoyIndex\n",
    "\n",
    "# Assuming that 'embeddings' is a list of your document vectors\n",
    "# title_dim = len(title_embeddings[0])  # Length of item vector that will be indexed\n",
    "# title_t = AnnoyIndex(title_dim, 'angular')  # Length of item vector that will be indexed and 'angular' for cosine similarity\n",
    "\n",
    "ingredients_dim = len(ingredients_embeddings[0])\n",
    "ingredients_t = AnnoyIndex(ingredients_dim, 'angular')\n",
    "\n",
    "directions_dim = len(directions_embeddings[0])\n",
    "directions_t = AnnoyIndex(directions_dim, 'angular')\n"
   ]
  },
  {
   "cell_type": "code",
   "execution_count": 15,
   "metadata": {},
   "outputs": [],
   "source": [
    "# title_dim, title_t"
   ]
  },
  {
   "cell_type": "code",
   "execution_count": 16,
   "metadata": {},
   "outputs": [
    {
     "data": {
      "text/plain": [
       "True"
      ]
     },
     "execution_count": 16,
     "metadata": {},
     "output_type": "execute_result"
    }
   ],
   "source": [
    "# for i, vector in enumerate(title_embeddings):\n",
    "#     title_t.add_item(i, vector)\n",
    "\n",
    "# title_t.build(10)  # 10 trees\n",
    "# title_t.save('title_test.ann')\n",
    "\n",
    "for i, vector in enumerate(ingredients_embeddings):\n",
    "    ingredients_t.add_item(i, vector)\n",
    "\n",
    "ingredients_t.build(10)  # 10 trees\n",
    "ingredients_t.save('ingredients_test.ann')\n",
    "\n",
    "for i, vector in enumerate(directions_embeddings):\n",
    "    directions_t.add_item(i, vector)\n",
    "\n",
    "directions_t.build(10)  # 10 trees\n",
    "directions_t.save('directions_test.ann') \n"
   ]
  },
  {
   "cell_type": "code",
   "execution_count": 17,
   "metadata": {},
   "outputs": [
    {
     "data": {
      "text/plain": [
       "True"
      ]
     },
     "execution_count": 17,
     "metadata": {},
     "output_type": "execute_result"
    }
   ],
   "source": [
    "# Load the index\n",
    "# title_u = AnnoyIndex(title_dim, 'angular')\n",
    "# title_u.load('title_test.ann')  # super fast, will just mmap the file\n",
    "\n",
    "# Load the index\n",
    "ingredients_u = AnnoyIndex(ingredients_dim, 'angular')\n",
    "ingredients_u.load('ingredients_test.ann')  # super fast, will just mmap the file\n",
    "\n",
    "# Load the index\n",
    "directions_u = AnnoyIndex(directions_dim, 'angular')\n",
    "directions_u.load('directions_test.ann')  # super fast, will just mmap the file\n"
   ]
  },
  {
   "cell_type": "code",
   "execution_count": 18,
   "metadata": {},
   "outputs": [],
   "source": [
    "# Find the 10 nearest neighbors\n",
    "# print(title_u.get_nns_by_item(0, 5))"
   ]
  },
  {
   "cell_type": "code",
   "execution_count": 19,
   "metadata": {},
   "outputs": [
    {
     "name": "stdout",
     "output_type": "stream",
     "text": [
      "[0, 41, 18, 37, 69]\n"
     ]
    }
   ],
   "source": [
    "print(ingredients_u.get_nns_by_item(0, 5))"
   ]
  },
  {
   "cell_type": "code",
   "execution_count": 20,
   "metadata": {},
   "outputs": [
    {
     "name": "stdout",
     "output_type": "stream",
     "text": [
      "[0, 91, 6, 92, 47]\n"
     ]
    }
   ],
   "source": [
    "print(directions_u.get_nns_by_item(0, 5))"
   ]
  },
  {
   "cell_type": "markdown",
   "metadata": {},
   "source": [
    "# Query Encoding: When a query comes in, encode it into a vector using the same method you used for the documents."
   ]
  },
  {
   "cell_type": "markdown",
   "metadata": {},
   "source": [
    "# Ollama"
   ]
  },
  {
   "cell_type": "code",
   "execution_count": 21,
   "metadata": {},
   "outputs": [],
   "source": [
    "import subprocess\n",
    "\n",
    "from IPython.display import Markdown\n",
    "import textwrap\n",
    "\n",
    "def to_markdown(text):\n",
    "    text = text.replace('•', '  *')\n",
    "    return Markdown(textwrap.indent(text, '> ', predicate=lambda _: True))\n",
    "\n",
    "def query_llm(query):\n",
    "    # Command to run the LLM\n",
    "    command = ['ollama', 'run', 'llama3']\n",
    "    \n",
    "    # Start the LLM process\n",
    "    process = subprocess.Popen(command, stdin=subprocess.PIPE, stdout=subprocess.PIPE, text=True)\n",
    "    \n",
    "    # Send the query to the LLM\n",
    "    output, _ = process.communicate(input=query)\n",
    "    \n",
    "    # Close the process\n",
    "    process.wait()\n",
    "    \n",
    "    return output\n"
   ]
  },
  {
   "cell_type": "markdown",
   "metadata": {},
   "source": [
    "# Choose your Ingredients"
   ]
  },
  {
   "cell_type": "code",
   "execution_count": 22,
   "metadata": {},
   "outputs": [],
   "source": [
    "# query = \"chicken thighs, soy sauce, thai red curry sauce, spring onions, rice\"\n",
    "# query = \"grass-fed beef, purple potatoes, rainbow carrots, pearl onions, garlic, fresh rosemary, fresh thyme, red wine, beef bone broth, porcini mushrooms, smoked paprika, star anise, orange zest\"\n",
    "query = \"almond flour, coconut sugar, matcha powder, pink Himalayan salt, grass-fed butter, almond milk, duck eggs, Madagascar bourbon vanilla extract, edible rose petals, dark chocolate chunks\"\n",
    "# query = \"chicken thighs, soy sauce, thai red curry sauce, spring onions, rice\"\n",
    "# query = \"gasoline, chair, airplane model\""
   ]
  },
  {
   "cell_type": "code",
   "execution_count": 23,
   "metadata": {},
   "outputs": [
    {
     "name": "stderr",
     "output_type": "stream",
     "text": [
      "\u001b[?25l⠙ \u001b[?25h\u001b[?25l\u001b[2K\u001b[1G⠙ \u001b[?25h\u001b[?25l\u001b[2K\u001b[1G⠹ \u001b[?25h\u001b[?25l\u001b[2K\u001b[1G⠼ \u001b[?25h\u001b[?25l\u001b[2K\u001b[1G⠼ \u001b[?25h\u001b[?25l\u001b[2K\u001b[1G⠴ \u001b[?25h\u001b[?25l\u001b[2K\u001b[1G⠧ \u001b[?25h\u001b[?25l\u001b[2K\u001b[1G⠇ \u001b[?25h\u001b[?25l\u001b[2K\u001b[1G⠏ \u001b[?25h\u001b[?25l\u001b[2K\u001b[1G⠏ \u001b[?25h\u001b[?25l\u001b[2K\u001b[1G⠋ \u001b[?25h\u001b[?25l\u001b[2K\u001b[1G⠙ \u001b[?25h\u001b[?25l\u001b[2K\u001b[1G⠹ \u001b[?25h\u001b[?25l\u001b[2K\u001b[1G⠼ \u001b[?25h\u001b[?25l\u001b[2K\u001b[1G⠴ \u001b[?25h\u001b[?25l\u001b[2K\u001b[1G⠴ \u001b[?25h\u001b[?25l\u001b[2K\u001b[1G⠧ \u001b[?25h\u001b[?25l\u001b[2K\u001b[1G⠧ \u001b[?25h\u001b[?25l\u001b[2K\u001b[1G⠇ \u001b[?25h\u001b[?25l\u001b[2K\u001b[1G⠋ \u001b[?25h\u001b[?25l\u001b[2K\u001b[1G⠙ \u001b[?25h\u001b[?25l\u001b[2K\u001b[1G⠹ \u001b[?25h\u001b[?25l\u001b[2K\u001b[1G⠹ \u001b[?25h\u001b[?25l\u001b[2K\u001b[1G⠸ \u001b[?25h\u001b[?25l\u001b[2K\u001b[1G⠼ \u001b[?25h\u001b[?25l\u001b[2K\u001b[1G⠴ \u001b[?25h\u001b[?25l\u001b[2K\u001b[1G⠦ \u001b[?25h\u001b[?25l\u001b[2K\u001b[1G⠧ \u001b[?25h\u001b[?25l\u001b[2K\u001b[1G⠇ \u001b[?25h\u001b[?25l\u001b[2K\u001b[1G⠏ \u001b[?25h\u001b[?25l\u001b[2K\u001b[1G⠋ \u001b[?25h\u001b[?25l\u001b[2K\u001b[1G⠙ \u001b[?25h\u001b[?25l\u001b[2K\u001b[1G⠹ \u001b[?25h\u001b[?25l\u001b[2K\u001b[1G⠸ \u001b[?25h\u001b[?25l\u001b[2K\u001b[1G⠼ \u001b[?25h\u001b[?25l\u001b[2K\u001b[1G⠴ \u001b[?25h\u001b[?25l\u001b[2K\u001b[1G⠦ \u001b[?25h\u001b[?25l\u001b[2K\u001b[1G⠧ \u001b[?25h\u001b[?25l\u001b[2K\u001b[1G⠏ \u001b[?25h\u001b[?25l\u001b[2K\u001b[1G⠋ \u001b[?25h\u001b[?25l\u001b[2K\u001b[1G⠋ \u001b[?25h\u001b[?25l\u001b[2K\u001b[1G⠙ \u001b[?25h\u001b[?25l\u001b[2K\u001b[1G⠹ \u001b[?25h\u001b[?25l\u001b[2K\u001b[1G⠼ \u001b[?25h\u001b[?25l\u001b[?25l\u001b[2K\u001b[1G\u001b[?25h\u001b[2K\u001b[1G\u001b[?25h\u001b[?25l\u001b[?25h\u001b[?25l\u001b[?25h\u001b[?25l\u001b[?25h\u001b[?25l\u001b[?25h\u001b[?25l\u001b[?25h\u001b[?25l\u001b[?25h\u001b[?25l\u001b[?25h\u001b[?25l\u001b[?25h\u001b[?25l\u001b[?25h\u001b[?25l\u001b[?25h\u001b[?25l\u001b[?25h\u001b[?25l\u001b[?25h\u001b[?25l\u001b[?25h\u001b[?25l\u001b[?25h\u001b[?25l\u001b[?25h\u001b[?25l\u001b[?25h\u001b[?25l\u001b[?25h\u001b[?25l\u001b[?25h\u001b[?25l\u001b[?25h\u001b[?25l\u001b[?25h\u001b[?25l\u001b[?25h\u001b[?25l\u001b[?25h\u001b[?25l\u001b[?25h\u001b[?25l\u001b[?25h\u001b[?25l\u001b[?25h\u001b[?25l\u001b[?25h\u001b[?25l\u001b[?25h\u001b[?25l\u001b[?25h\u001b[?25l\u001b[?25h\u001b[?25l\u001b[?25h\u001b[?25l\u001b[?25h\u001b[?25l\u001b[?25h\u001b[?25l\u001b[?25h\u001b[?25l\u001b[?25h\u001b[?25l\u001b[?25h\u001b[?25l\u001b[?25h\u001b[?25l\u001b[?25h\u001b[?25l\u001b[?25h\u001b[?25l\u001b[?25h\u001b[?25l\u001b[?25h\u001b[?25l\u001b[?25h\u001b[?25l\u001b[?25h\u001b[?25l\u001b[?25h\u001b[?25l\u001b[?25h\u001b[?25l\u001b[?25h\u001b[?25l\u001b[?25h\u001b[?25l\u001b[?25h\u001b[?25l\u001b[?25h\u001b[?25l\u001b[?25h\u001b[?25l\u001b[?25h\u001b[?25l\u001b[?25h\u001b[?25l\u001b[?25h\u001b[?25l\u001b[?25h\u001b[?25l\u001b[?25h\u001b[?25l\u001b[?25h\u001b[?25l\u001b[?25h\u001b[?25l\u001b[?25h\u001b[?25l\u001b[?25h\u001b[?25l\u001b[?25h\u001b[?25l\u001b[?25h\u001b[?25l\u001b[?25h\u001b[?25l\u001b[?25h\u001b[?25l\u001b[?25h\u001b[?25l\u001b[?25h\u001b[?25l\u001b[?25h\u001b[?25l\u001b[?25h\u001b[?25l\u001b[?25h\u001b[?25l\u001b[?25h\u001b[?25l\u001b[?25h\u001b[?25l\u001b[?25h\u001b[?25l\u001b[?25h\u001b[?25l\u001b[?25h\u001b[?25l\u001b[?25h\u001b[?25l\u001b[?25h\u001b[?25l\u001b[?25h\u001b[?25l\u001b[?25h\u001b[?25l\u001b[?25h\u001b[?25l\u001b[?25h\u001b[?25l\u001b[?25h\u001b[?25l\u001b[?25h\u001b[?25l\u001b[?25h\u001b[?25l\u001b[?25h\u001b[?25l\u001b[?25h\u001b[?25l\u001b[?25h\u001b[?25l\u001b[?25h\u001b[?25l\u001b[?25h\u001b[?25l\u001b[?25h\u001b[?25l\u001b[?25h\u001b[?25l\u001b[?25h\u001b[?25l\u001b[?25h\u001b[?25l\u001b[?25h\u001b[?25l\u001b[?25h\u001b[?25l\u001b[?25h\u001b[?25l\u001b[?25h\u001b[?25l\u001b[?25h\u001b[?25l\u001b[?25h\u001b[?25l\u001b[?25h\u001b[?25l\u001b[?25h\u001b[?25l\u001b[?25h\u001b[?25l\u001b[?25h\u001b[?25l\u001b[?25h\u001b[?25l\u001b[?25h\u001b[?25l\u001b[?25h\u001b[?25l\u001b[?25h\u001b[?25l\u001b[?25h\u001b[?25l\u001b[?25h\u001b[?25l\u001b[?25h\u001b[?25l\u001b[?25h\u001b[?25l\u001b[?25h\u001b[?25l\u001b[?25h\u001b[?25l\u001b[?25h\u001b[?25l\u001b[?25h\u001b[?25l\u001b[?25h\u001b[?25l\u001b[?25h\u001b[?25l\u001b[?25h\u001b[?25l\u001b[?25h\u001b[?25l\u001b[?25h\u001b[?25l\u001b[?25h\u001b[?25l\u001b[?25h\u001b[?25l\u001b[?25h\u001b[?25l\u001b[?25h\u001b[?25l\u001b[?25h\u001b[?25l\u001b[?25h\u001b[?25l\u001b[?25h\u001b[?25l\u001b[?25h\u001b[?25l\u001b[?25h\u001b[?25l\u001b[?25h\u001b[?25l\u001b[?25h\u001b[?25l\u001b[?25h\u001b[?25l\u001b[?25h\u001b[?25l\u001b[?25h\u001b[?25l\u001b[?25h\u001b[?25l\u001b[?25h\u001b[?25l\u001b[?25h\u001b[?25l\u001b[?25h\u001b[?25l\u001b[?25h\u001b[?25l\u001b[?25h\u001b[?25l\u001b[?25h\u001b[?25l\u001b[?25h\u001b[?25l\u001b[?25h\u001b[?25l\u001b[?25h\u001b[?25l\u001b[?25h\u001b[?25l\u001b[?25h\u001b[?25l\u001b[?25h\u001b[?25l\u001b[?25h\u001b[?25l\u001b[?25h\u001b[?25l\u001b[?25h\u001b[?25l\u001b[?25h\u001b[?25l\u001b[?25h\u001b[?25l\u001b[?25h\u001b[?25l\u001b[?25h\u001b[?25l\u001b[?25h\u001b[?25l\u001b[?25h\u001b[?25l\u001b[?25h\u001b[?25l\u001b[?25h\u001b[?25l\u001b[?25h\u001b[?25l\u001b[?25h\u001b[?25l\u001b[?25h\u001b[?25l\u001b[?25h\u001b[?25l\u001b[?25h\u001b[?25l\u001b[?25h\u001b[?25l\u001b[?25h\u001b[?25l\u001b[?25h\u001b[?25l\u001b[?25h\u001b[?25l\u001b[?25h\u001b[?25l\u001b[?25h\u001b[?25l\u001b[?25h\u001b[?25l\u001b[?25h\u001b[?25l\u001b[?25h\u001b[?25l\u001b[?25h\u001b[?25l\u001b[?25h\u001b[?25l\u001b[?25h\u001b[?25l\u001b[?25h\u001b[?25l\u001b[?25h\u001b[?25l\u001b[?25h\u001b[?25l\u001b[?25h\u001b[?25l\u001b[?25h\u001b[?25l\u001b[?25h\u001b[?25l\u001b[?25h\u001b[?25l\u001b[?25h\u001b[?25l\u001b[?25h\u001b[?25l\u001b[?25h\u001b[?25l\u001b[?25h\u001b[?25l\u001b[?25h\u001b[?25l\u001b[?25h\u001b[?25l\u001b[?25h\u001b[?25l\u001b[?25h\u001b[?25l\u001b[?25h\u001b[?25l\u001b[?25h\u001b[?25l\u001b[?25h\u001b[?25l\u001b[?25h\u001b[?25l\u001b[?25h\u001b[?25l\u001b[?25h\u001b[?25l\u001b[?25h\u001b[?25l\u001b[?25h\u001b[?25l\u001b[?25h\u001b[?25l\u001b[?25h\u001b[?25l\u001b[?25h\u001b[?25l\u001b[?25h\u001b[?25l\u001b[?25h\u001b[?25l\u001b[?25h\u001b[?25l\u001b[?25h\u001b[?25l\u001b[?25h\u001b[?25l\u001b[?25h\u001b[?25l\u001b[?25h\u001b[?25l\u001b[?25h\u001b[?25l\u001b[?25h\u001b[?25l\u001b[?25h\u001b[?25l\u001b[?25h\u001b[?25l\u001b[?25h\u001b[?25l\u001b[?25h\u001b[?25l\u001b[?25h\u001b[?25l\u001b[?25h\u001b[?25l\u001b[?25h\u001b[?25l\u001b[?25h\u001b[?25l\u001b[?25h\u001b[?25l\u001b[?25h\u001b[?25l\u001b[?25h\u001b[?25l\u001b[?25h\u001b[?25l\u001b[?25h\u001b[?25l\u001b[?25h\u001b[?25l\u001b[?25h\u001b[?25l\u001b[?25h\u001b[?25l\u001b[?25h\u001b[?25l\u001b[?25h\u001b[?25l\u001b[?25h\u001b[?25l\u001b[?25h\u001b[?25l\u001b[?25h\u001b[?25l\u001b[?25h\u001b[?25l\u001b[?25h\u001b[?25l\u001b[?25h\u001b[?25l\u001b[?25h\u001b[?25l\u001b[?25h\u001b[?25l\u001b[?25h\u001b[?25l\u001b[?25h\u001b[?25l\u001b[?25h\u001b[?25l\u001b[?25h\u001b[?25l\u001b[?25h\u001b[?25l\u001b[?25h\u001b[?25l\u001b[?25h\u001b[?25l\u001b[?25h\u001b[?25l\u001b[?25h\u001b[?25l\u001b[?25h\u001b[?25l\u001b[?25h\u001b[?25l\u001b[?25h\u001b[?25l\u001b[?25h\u001b[?25l\u001b[?25h\u001b[?25l\u001b[?25h\u001b[?25l\u001b[?25h\u001b[?25l\u001b[?25h\u001b[?25l\u001b[?25h\u001b[?25l\u001b[?25h\u001b[?25l\u001b[?25h\u001b[?25l\u001b[?25h\u001b[?25l\u001b[?25h\u001b[?25l\u001b[?25h\u001b[?25l\u001b[?25h\u001b[?25l\u001b[?25h\u001b[?25l\u001b[?25h\u001b[?25l\u001b[?25h\u001b[?25l\u001b[?25h\u001b[?25l\u001b[?25h\u001b[?25l\u001b[?25h\u001b[?25l\u001b[?25h\u001b[?25l\u001b[?25h\u001b[?25l\u001b[?25h\u001b[?25l\u001b[?25h\u001b[?25l\u001b[?25h\u001b[?25l\u001b[?25h\u001b[?25l\u001b[?25h\u001b[?25l\u001b[?25h\u001b[?25l\u001b[?25h\u001b[?25l\u001b[?25h\u001b[?25l\u001b[?25h\u001b[?25l\u001b[?25h\u001b[?25l\u001b[?25h\u001b[?25l\u001b[?25h\u001b[?25l\u001b[?25h\u001b[?25l\u001b[?25h\u001b[?25l\u001b[?25h\u001b[?25l\u001b[?25h\u001b[?25l\u001b[?25h\u001b[?25l\u001b[?25h\u001b[?25l\u001b[?25h\u001b[?25l\u001b[?25h\u001b[?25l\u001b[?25h\u001b[?25l\u001b[?25h\u001b[?25l\u001b[?25h\u001b[?25l\u001b[?25h\u001b[?25l\u001b[?25h\u001b[?25l\u001b[?25h\u001b[?25l\u001b[?25h\u001b[?25l\u001b[?25h\u001b[?25l\u001b[?25h\u001b[?25l\u001b[?25h\u001b[?25l\u001b[?25h\u001b[?25l\u001b[?25h\u001b[?25l\u001b[?25h\u001b[?25l\u001b[?25h\u001b[?25l\u001b[?25h\u001b[?25l\u001b[?25h\u001b[?25l\u001b[?25h\u001b[?25l\u001b[?25h\u001b[?25l\u001b[?25h\u001b[?25l\u001b[?25h\u001b[?25l\u001b[?25h\u001b[?25l\u001b[?25h\u001b[?25l\u001b[?25h\u001b[?25l\u001b[?25h\u001b[?25l\u001b[?25h\u001b[?25l\u001b[?25h\u001b[?25l\u001b[?25h\u001b[?25l\u001b[?25h\u001b[?25l\u001b[?25h\u001b[?25l\u001b[?25h\u001b[?25l\u001b[?25h\u001b[?25l\u001b[?25h\u001b[?25l\u001b[?25h\u001b[?25l\u001b[?25h\u001b[?25l\u001b[?25h\u001b[?25l\u001b[?25h\u001b[?25l\u001b[?25h\u001b[?25l\u001b[?25h\u001b[?25l\u001b[?25h\u001b[?25l\u001b[?25h\u001b[?25l\u001b[?25h\u001b[?25l\u001b[?25h\u001b[?25l\u001b[?25h\u001b[?25l\u001b[?25h\u001b[?25l\u001b[?25h\u001b[?25l\u001b[?25h\u001b[?25l\u001b[?25h\u001b[?25l\u001b[?25h\u001b[?25l\u001b[?25h\u001b[?25l\u001b[?25h\u001b[?25l\u001b[?25h\u001b[?25l\u001b[?25h\u001b[?25l\u001b[?25h\u001b[?25l\u001b[?25h\u001b[?25l\u001b[?25h\u001b[?25l\u001b[?25h\u001b[?25l\u001b[?25h\u001b[?25l\u001b[?25h\u001b[?25l\u001b[?25h\u001b[?25l\u001b[?25h\u001b[?25l\u001b[?25h\u001b[?25l\u001b[?25h\u001b[?25l\u001b[?25h\u001b[?25l\u001b[?25h\u001b[?25l\u001b[?25h\u001b[?25l\u001b[?25h\u001b[?25l\u001b[?25h\u001b[?25l\u001b[?25h\u001b[?25l\u001b[?25h\u001b[?25l\u001b[?25h\u001b[?25l\u001b[?25h\u001b[?25l\u001b[?25h\u001b[?25l\u001b[?25h\u001b[?25l\u001b[?25h\u001b[?25l\u001b[?25h\u001b[?25l\u001b[?25h\u001b[?25l\u001b[?25h\u001b[?25l\u001b[?25h\u001b[?25l\u001b[?25h\u001b[?25l\u001b[?25h\u001b[?25l\u001b[?25h\u001b[?25l\u001b[?25h\u001b[?25l\u001b[?25h\u001b[?25l\u001b[?25h\u001b[?25l\u001b[?25h\u001b[?25l\u001b[?25h\u001b[?25l\u001b[?25h\u001b[?25l\u001b[?25h\u001b[?25l\u001b[?25h\u001b[?25l\u001b[?25h\u001b[?25l\u001b[?25h\u001b[?25l\u001b[?25h\u001b[?25l\u001b[?25h\u001b[?25l\u001b[?25h\u001b[?25l\u001b[?25h\u001b[?25l\u001b[?25h\u001b[?25l\u001b[?25h\u001b[?25l\u001b[?25h\u001b[?25l\u001b[?25h\u001b[?25l\u001b[?25h\u001b[?25l\u001b[?25h\u001b[?25l\u001b[?25h\u001b[?25l\u001b[?25h\u001b[?25l\u001b[?25h\u001b[?25l\u001b[?25h"
     ]
    }
   ],
   "source": [
    "os.environ[\"TOKENIZERS_PARALLELISM\"] = \"false\"\n",
    "\n",
    "prompt = f'''\n",
    "\n",
    "Take the {query} from the user and create a new cooking direction where it uses all the elements in {query}.\n",
    "Output only the instruction part.\n",
    "'''\n",
    "llm_direction = query_llm(prompt)\n",
    "# to_markdown(response)"
   ]
  },
  {
   "cell_type": "code",
   "execution_count": 24,
   "metadata": {},
   "outputs": [],
   "source": [
    "# Encode the query\n",
    "from sentence_transformers import SentenceTransformer\n",
    "\n",
    "# Initialize the model\n",
    "model = SentenceTransformer('all-MiniLM-L6-v2')\n",
    "\n",
    "def tokenize_and_encode(text):\n",
    "    embedding = model.encode([text])\n",
    "    return embedding[0]\n",
    "\n",
    "# Encode the query\n",
    "query_embedding = tokenize_and_encode(llm_direction)"
   ]
  },
  {
   "cell_type": "markdown",
   "metadata": {},
   "source": [
    "# Document Retrieval: Retrieve the most relevant documents from the vector database based on the similarity of their embeddings to the query embedding1."
   ]
  },
  {
   "cell_type": "code",
   "execution_count": 25,
   "metadata": {},
   "outputs": [
    {
     "name": "stderr",
     "output_type": "stream",
     "text": [
      "/var/folders/hk/s451gdsx0vj4p_r9gr7d8trw0000gn/T/ipykernel_79520/2260054532.py:8: FutureWarning: Series.__getitem__ treating keys as positions is deprecated. In a future version, integer keys will always be treated as labels (consistent with DataFrame behavior). To access a value by position, use `ser.iloc[pos]`\n",
      "  recipe_name.append(df.iloc[item][1])\n"
     ]
    },
    {
     "data": {
      "text/plain": [
       "['Blueberry Surprise',\n",
       " 'Chocolate Mint Bars',\n",
       " \"Moist Devil'S Food Cake\",\n",
       " 'Easy Fudge',\n",
       " 'Corral Barbecued Beef Steak Strips',\n",
       " 'Broccoli Dip For Crackers',\n",
       " 'Brickle Bars',\n",
       " 'Strawberry Whatever',\n",
       " 'Eggless Milkless Applesauce Cake',\n",
       " 'Gooey Coffee Cake']"
      ]
     },
     "execution_count": 25,
     "metadata": {},
     "output_type": "execute_result"
    }
   ],
   "source": [
    "n_similar = 10\n",
    "similar_items = directions_t.get_nns_by_vector(query_embedding, n_similar)\n",
    "\n",
    "\n",
    "recipe_name = []\n",
    "# Print the similar items\n",
    "for item in similar_items:\n",
    "    recipe_name.append(df.iloc[item][1])\n",
    "\n",
    "recipe_name"
   ]
  },
  {
   "cell_type": "code",
   "execution_count": 26,
   "metadata": {},
   "outputs": [
    {
     "data": {
      "text/html": [
       "<div>\n",
       "<style scoped>\n",
       "    .dataframe tbody tr th:only-of-type {\n",
       "        vertical-align: middle;\n",
       "    }\n",
       "\n",
       "    .dataframe tbody tr th {\n",
       "        vertical-align: top;\n",
       "    }\n",
       "\n",
       "    .dataframe thead th {\n",
       "        text-align: right;\n",
       "    }\n",
       "</style>\n",
       "<table border=\"1\" class=\"dataframe\">\n",
       "  <thead>\n",
       "    <tr style=\"text-align: right;\">\n",
       "      <th></th>\n",
       "      <th>title</th>\n",
       "      <th>ingredients</th>\n",
       "      <th>directions</th>\n",
       "    </tr>\n",
       "  </thead>\n",
       "  <tbody>\n",
       "    <tr>\n",
       "      <th>18</th>\n",
       "      <td>Strawberry Whatever</td>\n",
       "      <td>[\"1 lb. frozen strawberries in juice\", \"1 smal...</td>\n",
       "      <td>[\"Mix Jell-O in boiling water.\", \"Add strawber...</td>\n",
       "    </tr>\n",
       "    <tr>\n",
       "      <th>19</th>\n",
       "      <td>Eggless Milkless Applesauce Cake</td>\n",
       "      <td>[\"3/4 c. sugar\", \"1/2 c. shortening\", \"1 1/2 c...</td>\n",
       "      <td>[\"Mix Crisco with applesauce, nuts and raisins...</td>\n",
       "    </tr>\n",
       "    <tr>\n",
       "      <th>26</th>\n",
       "      <td>Corral Barbecued Beef Steak Strips</td>\n",
       "      <td>[\"2 lb. round steak 1/2 to 3/4-inch thick, sli...</td>\n",
       "      <td>[\"Brown strips in cooking oil.\", \"Pour off dri...</td>\n",
       "    </tr>\n",
       "    <tr>\n",
       "      <th>27</th>\n",
       "      <td>Easy Fudge</td>\n",
       "      <td>[\"1 (14 oz.) can sweetened condensed milk\", \"1...</td>\n",
       "      <td>[\"Butter a square pan, 8 x 8 x 2-inches.\", \"He...</td>\n",
       "    </tr>\n",
       "    <tr>\n",
       "      <th>36</th>\n",
       "      <td>Broccoli Dip For Crackers</td>\n",
       "      <td>[\"16 oz. sour cream\", \"1 pkg. dry vegetable so...</td>\n",
       "      <td>[\"Mix together sour cream, soup mix, broccoli ...</td>\n",
       "    </tr>\n",
       "    <tr>\n",
       "      <th>45</th>\n",
       "      <td>Chocolate Mint Bars</td>\n",
       "      <td>[\"1 c. flour\", \"1 c. sugar\", \"1/2 c. oleo, sof...</td>\n",
       "      <td>[\"Mix together and bake in 9 x 13-inch pan at ...</td>\n",
       "    </tr>\n",
       "    <tr>\n",
       "      <th>61</th>\n",
       "      <td>Gooey Coffee Cake</td>\n",
       "      <td>[\"1 yellow cake mix\", \"2 eggs\", \"1 stick oleo,...</td>\n",
       "      <td>[\"Mix together cake mix, 2 eggs and melted ole...</td>\n",
       "    </tr>\n",
       "    <tr>\n",
       "      <th>68</th>\n",
       "      <td>Blueberry Surprise</td>\n",
       "      <td>[\"1 stick margarine\", \"1 1/2 c. graham cracker...</td>\n",
       "      <td>[\"Mix ingredients and press 2/3 mixture in bot...</td>\n",
       "    </tr>\n",
       "    <tr>\n",
       "      <th>69</th>\n",
       "      <td>Moist Devil'S Food Cake</td>\n",
       "      <td>[\"2 c. sifted flour\", \"1 1/2 tsp. baking soda\"...</td>\n",
       "      <td>[\"Sift together the flour, soda and salt; set ...</td>\n",
       "    </tr>\n",
       "    <tr>\n",
       "      <th>99</th>\n",
       "      <td>Brickle Bars</td>\n",
       "      <td>[\"1 box yellow cake mix\", \"2 eggs\", \"1/3 c. so...</td>\n",
       "      <td>[\"Mix together with a fork:\", \"cake mix, 1 egg...</td>\n",
       "    </tr>\n",
       "  </tbody>\n",
       "</table>\n",
       "</div>"
      ],
      "text/plain": [
       "                                 title  \\\n",
       "18                 Strawberry Whatever   \n",
       "19    Eggless Milkless Applesauce Cake   \n",
       "26  Corral Barbecued Beef Steak Strips   \n",
       "27                          Easy Fudge   \n",
       "36           Broccoli Dip For Crackers   \n",
       "45                 Chocolate Mint Bars   \n",
       "61                   Gooey Coffee Cake   \n",
       "68                  Blueberry Surprise   \n",
       "69             Moist Devil'S Food Cake   \n",
       "99                        Brickle Bars   \n",
       "\n",
       "                                          ingredients  \\\n",
       "18  [\"1 lb. frozen strawberries in juice\", \"1 smal...   \n",
       "19  [\"3/4 c. sugar\", \"1/2 c. shortening\", \"1 1/2 c...   \n",
       "26  [\"2 lb. round steak 1/2 to 3/4-inch thick, sli...   \n",
       "27  [\"1 (14 oz.) can sweetened condensed milk\", \"1...   \n",
       "36  [\"16 oz. sour cream\", \"1 pkg. dry vegetable so...   \n",
       "45  [\"1 c. flour\", \"1 c. sugar\", \"1/2 c. oleo, sof...   \n",
       "61  [\"1 yellow cake mix\", \"2 eggs\", \"1 stick oleo,...   \n",
       "68  [\"1 stick margarine\", \"1 1/2 c. graham cracker...   \n",
       "69  [\"2 c. sifted flour\", \"1 1/2 tsp. baking soda\"...   \n",
       "99  [\"1 box yellow cake mix\", \"2 eggs\", \"1/3 c. so...   \n",
       "\n",
       "                                           directions  \n",
       "18  [\"Mix Jell-O in boiling water.\", \"Add strawber...  \n",
       "19  [\"Mix Crisco with applesauce, nuts and raisins...  \n",
       "26  [\"Brown strips in cooking oil.\", \"Pour off dri...  \n",
       "27  [\"Butter a square pan, 8 x 8 x 2-inches.\", \"He...  \n",
       "36  [\"Mix together sour cream, soup mix, broccoli ...  \n",
       "45  [\"Mix together and bake in 9 x 13-inch pan at ...  \n",
       "61  [\"Mix together cake mix, 2 eggs and melted ole...  \n",
       "68  [\"Mix ingredients and press 2/3 mixture in bot...  \n",
       "69  [\"Sift together the flour, soda and salt; set ...  \n",
       "99  [\"Mix together with a fork:\", \"cake mix, 1 egg...  "
      ]
     },
     "execution_count": 26,
     "metadata": {},
     "output_type": "execute_result"
    }
   ],
   "source": [
    "# Create a subset DataFrame containing only the rows with titles in 'titles_to_extract'\n",
    "new_df = df[df['title'].isin(recipe_name)]\n",
    "\n",
    "# Extract the relevant columns\n",
    "selected_columns = ['title', 'ingredients', 'directions']\n",
    "result_df = new_df[selected_columns]\n",
    "\n",
    "# Print the resulting DataFrame\n",
    "result_df"
   ]
  },
  {
   "cell_type": "markdown",
   "metadata": {},
   "source": [
    "# Ollama"
   ]
  },
  {
   "cell_type": "code",
   "execution_count": 27,
   "metadata": {},
   "outputs": [],
   "source": [
    "import pathlib\n",
    "import textwrap\n",
    "\n",
    "import google.generativeai as genai\n",
    "\n",
    "from IPython.display import display\n",
    "from IPython.display import Markdown\n",
    "\n",
    "def to_markdown(text):\n",
    "  text = text.replace('•', '  *')\n",
    "  return Markdown(textwrap.indent(text, '> ', predicate=lambda _: True))"
   ]
  },
  {
   "cell_type": "code",
   "execution_count": 28,
   "metadata": {},
   "outputs": [
    {
     "data": {
      "text/plain": [
       "(['[\"1 lb. frozen strawberries in juice\", \"1 small can crushed pineapple\", \"3 ripe bananas\", \"1 c. chopped pecans\", \"1 large pkg. strawberry Jell-O\", \"1 1/2 c. boiling water\", \"1 pt. sour cream\"]',\n",
       "  '[\"3/4 c. sugar\", \"1/2 c. shortening\", \"1 1/2 c. applesauce\", \"3 level tsp. soda\", \"1 tsp. each: cinnamon, cloves and nutmeg\", \"2 c. sifted flour\", \"1 c. raisins\", \"1 c. nuts\"]',\n",
       "  '[\"2 lb. round steak 1/2 to 3/4-inch thick, sliced in strips 1/8-inch thick (or thinner) and 3 1/2 to 4-inches long (easily sliced if partially frozen)\", \"2 Tbsp. cooking oil\", \"1 can (15 oz.) tomato sauce\", \"1/3 c. water\", \"2 Tbsp. brown sugar\", \"1 Tbsp. prepared mustard\", \"1 tbsp. Worcestershire sauce\", \"1 medium sized onion, thinly sliced\"]',\n",
       "  '[\"1 (14 oz.) can sweetened condensed milk\", \"1 (12 oz.) pkg. semi-sweet chocolate chips\", \"1 (1 oz.) sq. unsweetened chocolate (if desired)\", \"1 1/2 c. chopped nuts (if desired)\", \"1 tsp. vanilla\"]',\n",
       "  '[\"16 oz. sour cream\", \"1 pkg. dry vegetable soup mix\", \"10 oz. pkg. frozen chopped broccoli, thawed and drained\", \"4 to 6 oz. Cheddar cheese, grated\"]',\n",
       "  '[\"1 c. flour\", \"1 c. sugar\", \"1/2 c. oleo, softened\", \"4 eggs\", \"1 can chocolate syrup\"]',\n",
       "  '[\"1 yellow cake mix\", \"2 eggs\", \"1 stick oleo, melted\", \"1 c. chopped nuts\", \"2 eggs\", \"8 oz. softened cream cheese\", \"1 lb. powdered sugar\"]',\n",
       "  '[\"1 stick margarine\", \"1 1/2 c. graham cracker crumbs\", \"1/4 c. granulated sugar\"]',\n",
       "  '[\"2 c. sifted flour\", \"1 1/2 tsp. baking soda\", \"1/4 tsp. salt\", \"1/2 c. shortening\", \"1 1/2 c. sugar\", \"2 eggs, separated\", \"1/2 c. cocoa\", \"water\", \"1 tsp. vanilla\", \"1 c. milk\"]',\n",
       "  '[\"1 box yellow cake mix\", \"2 eggs\", \"1/3 c. soft margarine\", \"1 can Eagle Brand milk\", \"1 c. pecans\", \"1/2 c. Bits \\'O Brickle\"]'],\n",
       " ['[\"Mix Jell-O in boiling water.\", \"Add strawberries, pineapple, crushed bananas and nuts.\", \"Spread 1/2 mixture in 13 x 6 1/2-inch pan.\", \"Allow to gel in freezer 30 minutes.\", \"Add layer of sour cream, then remaining mixture on top.\", \"Gel and serve.\"]',\n",
       "  '[\"Mix Crisco with applesauce, nuts and raisins.\", \"Sift dry ingredients and add.\", \"Mix well.\", \"Put in a greased and floured loaf pan or tube pan.\", \"Bake in loaf pan at 350\\\\u00b0 to 375\\\\u00b0 for 45 to 60 minutes, layer pan at 375\\\\u00b0 for 20 minutes or tube pan at 325\\\\u00b0 for 1 hour.\"]',\n",
       "  '[\"Brown strips in cooking oil.\", \"Pour off drippings.\", \"Combine tomato sauce, water, brown sugar, mustard and Worcestershire sauce.\", \"Add sauce and onion to meat slices.\", \"Cover and cook slowly, stirring occasionally 30 minutes or until meat is tender. Serve over rice or buttered noodles.\", \"Yields 6 to 8 servings.\"]',\n",
       "  '[\"Butter a square pan, 8 x 8 x 2-inches.\", \"Heat milk, chocolate chips and unsweetened chocolate over low heat, stirring constantly, until chocolate is melted and mixture is smooth. Remove from heat.\", \"Stir in nuts and vanilla.\", \"Spread in pan.\"]',\n",
       "  '[\"Mix together sour cream, soup mix, broccoli and half of cheese.\", \"Sprinkle remaining cheese on top.\", \"Bake at 350\\\\u00b0 for 30 minutes, uncovered.\", \"Serve hot with vegetable crackers.\"]',\n",
       "  '[\"Mix together and bake in 9 x 13-inch pan at 350\\\\u00b0 for 25 to 30 minutes.\", \"Top should spring back when touched lightly; do not overbake.\", \"Cool completely, then spread with mint layer.\"]',\n",
       "  '[\"Mix together cake mix, 2 eggs and melted oleo.\", \"Put in greased 9 x 13-inch pan.\", \"Put chopped nuts on top of mixture.\", \"Mix together 2 eggs, cream cheese and powdered sugar.\", \"Add on top of first mixture.\", \"Bake 15 minutes at 325\\\\u00b0, then bake 20 minutes at 350\\\\u00b0.\"]',\n",
       "  '[\"Mix ingredients and press 2/3 mixture in bottom of square baking dish.\", \"(A bowl that has the same diameter top and bottom may be used, 1 1/2 to 2-quart size.)\"]',\n",
       "  '[\"Sift together the flour, soda and salt; set aside.\", \"Combine shortening and sugar in a bowl.\", \"Beat until creamy.\", \"Add egg yolks; beat well.\", \"Combine cocoa, water and vanilla to make 1 cup; mix well.\", \"Add to batter.\", \"Add flour mixture alternately with milk.\", \"Beat well after each addition; set aside.\", \"Beat egg whites until stiff peaks form when beater is lifted.\", \"Fold into batter. Bake in two 9-inch greased cake pans at 375\\\\u00b0 for 30 minutes.\"]',\n",
       "  '[\"Mix together with a fork:\", \"cake mix, 1 egg and margarine. Press into a 13 x 9-inch pan.\", \"Next mix Eagle Brand milk, 1 egg, pecans and Bits \\'O Brickle.\", \"Pour over cake mixture.\", \"Bake 30 minutes at 350\\\\u00b0.\", \"Let cool and cut into bars.\"]'])"
      ]
     },
     "execution_count": 28,
     "metadata": {},
     "output_type": "execute_result"
    }
   ],
   "source": [
    "title_ans = result_df['title']\n",
    "title_doc = []\n",
    "for title in title_ans:\n",
    "    title_doc.append(title)\n",
    "\n",
    "ingredients_ans = result_df['ingredients']\n",
    "ingredients_doc = []\n",
    "for ingredients in ingredients_ans:\n",
    "    ingredients_doc.append(ingredients)\n",
    "\n",
    "directions_ans = result_df['directions']\n",
    "directions_doc = []\n",
    "for directions in directions_ans:\n",
    "    directions_doc.append(directions)\n",
    "\n",
    "# title_doc\n",
    "ingredients_doc = ingredients_doc\n",
    "ingredients_doc, directions_doc"
   ]
  },
  {
   "cell_type": "code",
   "execution_count": 29,
   "metadata": {},
   "outputs": [],
   "source": [
    "recipe_format = '''\n",
    "Recipe Title: Zesty Lemon Chicken with Roasted Garlic and Thyme\n",
    "\n",
    "Ingredients:\n",
    "\n",
    "1 pound boneless, skinless chicken breasts\n",
    "1 lemon, zested and juiced\n",
    "2 tablespoons olive oil\n",
    "1 teaspoon dried thyme\n",
    "1 head of garlic, cloves separated and peeled\n",
    "Salt and pepper to taste\n",
    "Cooking Instructions:\n",
    "\n",
    "Step 1: Prepare the Chicken\n",
    "\n",
    "Preheat oven to 400°F (200°C).\n",
    "In a bowl, combine the chicken breasts, lemon zest and juice, olive oil, thyme, and a generous amount of salt and pepper.\n",
    "Stir to coat the chicken evenly.\n",
    "\n",
    "Step 2: Roast the Garlic\n",
    "\n",
    "Place the garlic cloves on a small baking sheet.\n",
    "Drizzle with olive oil and sprinkle with a pinch of salt.\n",
    "Roast in the oven for 15-20 minutes, or until golden brown and tender.\n",
    "\n",
    "Step 3: Cook the Chicken\n",
    "\n",
    "Transfer the chicken to a baking dish.\n",
    "Arrange the roasted garlic cloves around the chicken.\n",
    "Bake in the preheated oven for 25-30 minutes, or until the chicken is cooked through and no longer pink inside.\n",
    "\n",
    "Step 4: Serve\n",
    "\n",
    "Remove the chicken from the oven and let it rest for 5 minutes before slicing.\n",
    "Serve the chicken with the roasted garlic cloves and lemon slices.\n",
    "Garnish with fresh thyme leaves for extra flavor.\n",
    "\n",
    "Tips:\n",
    "\n",
    "For a crispy skin, broil the chicken for the last 5 minutes of cooking.\n",
    "Add a side of roasted vegetables or a bed of rice for a complete meal.\n",
    "Use a food processor to quickly zest the lemon.\n",
    "If you don't have dried thyme, you can use 2 teaspoons of fresh thyme leaves.\n",
    "'''"
   ]
  },
  {
   "cell_type": "code",
   "execution_count": 31,
   "metadata": {},
   "outputs": [
    {
     "name": "stderr",
     "output_type": "stream",
     "text": [
      "\u001b[?25l⠙ \u001b[?25h\u001b[?25l\u001b[2K\u001b[1G⠹ \u001b[?25h\u001b[?25l\u001b[2K\u001b[1G⠸ \u001b[?25h\u001b[?25l\u001b[2K\u001b[1G⠼ \u001b[?25h\u001b[?25l\u001b[2K\u001b[1G⠴ \u001b[?25h\u001b[?25l\u001b[2K\u001b[1G⠦ \u001b[?25h\u001b[?25l\u001b[2K\u001b[1G⠧ \u001b[?25h\u001b[?25l\u001b[2K\u001b[1G⠧ \u001b[?25h\u001b[?25l\u001b[2K\u001b[1G⠏ \u001b[?25h\u001b[?25l\u001b[2K\u001b[1G⠋ \u001b[?25h\u001b[?25l\u001b[2K\u001b[1G⠙ \u001b[?25h\u001b[?25l\u001b[2K\u001b[1G⠹ \u001b[?25h\u001b[?25l\u001b[2K\u001b[1G⠸ \u001b[?25h\u001b[?25l\u001b[2K\u001b[1G⠼ \u001b[?25h\u001b[?25l\u001b[2K\u001b[1G⠴ \u001b[?25h\u001b[?25l\u001b[2K\u001b[1G⠦ \u001b[?25h\u001b[?25l\u001b[2K\u001b[1G⠧ \u001b[?25h\u001b[?25l\u001b[2K\u001b[1G⠧ \u001b[?25h\u001b[?25l\u001b[2K\u001b[1G⠏ \u001b[?25h\u001b[?25l\u001b[2K\u001b[1G⠋ \u001b[?25h\u001b[?25l\u001b[2K\u001b[1G⠙ \u001b[?25h\u001b[?25l\u001b[2K\u001b[1G⠹ \u001b[?25h\u001b[?25l\u001b[2K\u001b[1G⠸ \u001b[?25h\u001b[?25l\u001b[2K\u001b[1G⠼ \u001b[?25h\u001b[?25l\u001b[2K\u001b[1G⠴ \u001b[?25h\u001b[?25l\u001b[2K\u001b[1G⠦ \u001b[?25h\u001b[?25l\u001b[2K\u001b[1G⠧ \u001b[?25h\u001b[?25l\u001b[2K\u001b[1G⠧ \u001b[?25h\u001b[?25l\u001b[2K\u001b[1G⠏ \u001b[?25h\u001b[?25l\u001b[2K\u001b[1G⠋ \u001b[?25h\u001b[?25l\u001b[2K\u001b[1G⠙ \u001b[?25h\u001b[?25l\u001b[2K\u001b[1G⠹ \u001b[?25h\u001b[?25l\u001b[2K\u001b[1G⠸ \u001b[?25h\u001b[?25l\u001b[2K\u001b[1G⠼ \u001b[?25h\u001b[?25l\u001b[2K\u001b[1G⠴ \u001b[?25h\u001b[?25l\u001b[2K\u001b[1G⠦ \u001b[?25h\u001b[?25l\u001b[2K\u001b[1G⠧ \u001b[?25h\u001b[?25l\u001b[2K\u001b[1G⠇ \u001b[?25h\u001b[?25l\u001b[2K\u001b[1G⠏ \u001b[?25h\u001b[?25l\u001b[2K\u001b[1G⠋ \u001b[?25h\u001b[?25l\u001b[2K\u001b[1G⠙ \u001b[?25h\u001b[?25l\u001b[2K\u001b[1G⠹ \u001b[?25h\u001b[?25l\u001b[2K\u001b[1G⠸ \u001b[?25h\u001b[?25l\u001b[2K\u001b[1G⠼ \u001b[?25h\u001b[?25l\u001b[2K\u001b[1G⠴ \u001b[?25h\u001b[?25l\u001b[2K\u001b[1G⠦ \u001b[?25h\u001b[?25l\u001b[2K\u001b[1G⠧ \u001b[?25h\u001b[?25l\u001b[2K\u001b[1G⠇ \u001b[?25h\u001b[?25l\u001b[2K\u001b[1G⠏ \u001b[?25h\u001b[?25l\u001b[2K\u001b[1G⠋ \u001b[?25h\u001b[?25l\u001b[2K\u001b[1G⠙ \u001b[?25h\u001b[?25l\u001b[2K\u001b[1G⠹ \u001b[?25h\u001b[?25l\u001b[2K\u001b[1G⠸ \u001b[?25h\u001b[?25l\u001b[2K\u001b[1G⠼ \u001b[?25h\u001b[?25l\u001b[2K\u001b[1G⠴ \u001b[?25h\u001b[?25l\u001b[2K\u001b[1G⠦ \u001b[?25h\u001b[?25l\u001b[2K\u001b[1G⠧ \u001b[?25h\u001b[?25l\u001b[2K\u001b[1G⠇ \u001b[?25h\u001b[?25l\u001b[2K\u001b[1G⠏ \u001b[?25h\u001b[?25l\u001b[2K\u001b[1G⠋ \u001b[?25h\u001b[?25l\u001b[2K\u001b[1G⠙ \u001b[?25h\u001b[?25l\u001b[2K\u001b[1G⠹ \u001b[?25h\u001b[?25l\u001b[2K\u001b[1G⠸ \u001b[?25h\u001b[?25l\u001b[2K\u001b[1G⠼ \u001b[?25h\u001b[?25l\u001b[2K\u001b[1G⠴ \u001b[?25h\u001b[?25l\u001b[2K\u001b[1G⠦ \u001b[?25h\u001b[?25l\u001b[2K\u001b[1G⠧ \u001b[?25h\u001b[?25l\u001b[2K\u001b[1G⠇ \u001b[?25h\u001b[?25l\u001b[2K\u001b[1G⠏ \u001b[?25h\u001b[?25l\u001b[2K\u001b[1G⠋ \u001b[?25h\u001b[?25l\u001b[2K\u001b[1G⠙ \u001b[?25h\u001b[?25l\u001b[2K\u001b[1G⠹ \u001b[?25h\u001b[?25l\u001b[2K\u001b[1G⠹ \u001b[?25h\u001b[?25l\u001b[2K\u001b[1G⠼ \u001b[?25h\u001b[?25l\u001b[2K\u001b[1G⠴ \u001b[?25h\u001b[?25l\u001b[2K\u001b[1G⠦ \u001b[?25h\u001b[?25l\u001b[2K\u001b[1G⠧ \u001b[?25h\u001b[?25l\u001b[2K\u001b[1G⠇ \u001b[?25h\u001b[?25l\u001b[2K\u001b[1G⠇ \u001b[?25h\u001b[?25l\u001b[2K\u001b[1G⠋ \u001b[?25h\u001b[?25l\u001b[2K\u001b[1G⠙ \u001b[?25h\u001b[?25l\u001b[2K\u001b[1G⠹ \u001b[?25h\u001b[?25l\u001b[2K\u001b[1G⠸ \u001b[?25h\u001b[?25l\u001b[2K\u001b[1G⠼ \u001b[?25h\u001b[?25l\u001b[2K\u001b[1G⠴ \u001b[?25h\u001b[?25l\u001b[2K\u001b[1G⠦ \u001b[?25h\u001b[?25l\u001b[2K\u001b[1G⠦ \u001b[?25h\u001b[?25l\u001b[2K\u001b[1G⠇ \u001b[?25h\u001b[?25l\u001b[2K\u001b[1G⠏ \u001b[?25h\u001b[?25l\u001b[2K\u001b[1G⠋ \u001b[?25h\u001b[?25l\u001b[2K\u001b[1G⠙ \u001b[?25h\u001b[?25l\u001b[2K\u001b[1G⠹ \u001b[?25h\u001b[?25l\u001b[2K\u001b[1G⠸ \u001b[?25h\u001b[?25l\u001b[2K\u001b[1G⠼ \u001b[?25h\u001b[?25l\u001b[?25l\u001b[2K\u001b[1G\u001b[?25h\u001b[2K\u001b[1G\u001b[?25h\u001b[?25l\u001b[?25h\u001b[?25l\u001b[?25h\u001b[?25l\u001b[?25h\u001b[?25l\u001b[?25h\u001b[?25l\u001b[?25h\u001b[?25l\u001b[?25h\u001b[?25l\u001b[?25h\u001b[?25l\u001b[?25h\u001b[?25l\u001b[?25h\u001b[?25l\u001b[?25h\u001b[?25l\u001b[?25h\u001b[?25l\u001b[?25h\u001b[?25l\u001b[?25h\u001b[?25l\u001b[?25h\u001b[?25l\u001b[?25h\u001b[?25l\u001b[?25h\u001b[?25l\u001b[?25h\u001b[?25l\u001b[?25h\u001b[?25l\u001b[?25h\u001b[?25l\u001b[?25h\u001b[?25l\u001b[?25h\u001b[?25l\u001b[?25h\u001b[?25l\u001b[?25h\u001b[?25l\u001b[?25h\u001b[?25l\u001b[?25h\u001b[?25l\u001b[?25h\u001b[?25l\u001b[?25h\u001b[?25l\u001b[?25h\u001b[?25l\u001b[?25h\u001b[?25l\u001b[?25h\u001b[?25l\u001b[?25h\u001b[?25l\u001b[?25h\u001b[?25l\u001b[?25h\u001b[?25l\u001b[?25h\u001b[?25l\u001b[?25h\u001b[?25l\u001b[?25h\u001b[?25l\u001b[?25h\u001b[?25l\u001b[?25h\u001b[?25l\u001b[?25h\u001b[?25l\u001b[?25h\u001b[?25l\u001b[?25h\u001b[?25l\u001b[?25h\u001b[?25l\u001b[?25h\u001b[?25l\u001b[?25h\u001b[?25l\u001b[?25h\u001b[?25l\u001b[?25h\u001b[?25l\u001b[?25h\u001b[?25l\u001b[?25h\u001b[?25l\u001b[?25h\u001b[?25l\u001b[?25h\u001b[?25l\u001b[?25h\u001b[?25l\u001b[?25h\u001b[?25l\u001b[?25h\u001b[?25l\u001b[?25h\u001b[?25l\u001b[?25h\u001b[?25l\u001b[?25h\u001b[?25l\u001b[?25h\u001b[?25l\u001b[?25h\u001b[?25l\u001b[?25h\u001b[?25l\u001b[?25h\u001b[?25l\u001b[?25h\u001b[?25l\u001b[?25h\u001b[?25l\u001b[?25h\u001b[?25l\u001b[?25h\u001b[?25l\u001b[?25h\u001b[?25l\u001b[?25h\u001b[?25l\u001b[?25h\u001b[?25l\u001b[?25h\u001b[?25l\u001b[?25h\u001b[?25l\u001b[?25h\u001b[?25l\u001b[?25h\u001b[?25l\u001b[?25h\u001b[?25l\u001b[?25h\u001b[?25l\u001b[?25h\u001b[?25l\u001b[?25h\u001b[?25l\u001b[?25h\u001b[?25l\u001b[?25h\u001b[?25l\u001b[?25h\u001b[?25l\u001b[?25h\u001b[?25l\u001b[?25h\u001b[?25l\u001b[?25h\u001b[?25l\u001b[?25h\u001b[?25l\u001b[?25h\u001b[?25l\u001b[?25h\u001b[?25l\u001b[?25h\u001b[?25l\u001b[?25h\u001b[?25l\u001b[?25h\u001b[?25l\u001b[?25h\u001b[?25l\u001b[?25h\u001b[?25l\u001b[?25h\u001b[?25l\u001b[?25h\u001b[?25l\u001b[?25h\u001b[?25l\u001b[?25h\u001b[?25l\u001b[?25h\u001b[?25l\u001b[?25h\u001b[?25l\u001b[?25h\u001b[?25l\u001b[?25h\u001b[?25l\u001b[?25h\u001b[?25l\u001b[?25h\u001b[?25l\u001b[?25h\u001b[?25l\u001b[?25h\u001b[?25l\u001b[?25h\u001b[?25l\u001b[?25h\u001b[?25l\u001b[?25h\u001b[?25l\u001b[?25h\u001b[?25l\u001b[?25h\u001b[?25l\u001b[?25h\u001b[?25l\u001b[?25h\u001b[?25l\u001b[?25h\u001b[?25l\u001b[?25h\u001b[?25l\u001b[?25h\u001b[?25l\u001b[?25h\u001b[?25l\u001b[?25h\u001b[?25l\u001b[?25h\u001b[?25l\u001b[?25h\u001b[?25l\u001b[?25h\u001b[?25l\u001b[?25h\u001b[?25l\u001b[?25h\u001b[?25l\u001b[?25h\u001b[?25l\u001b[?25h\u001b[?25l\u001b[?25h\u001b[?25l\u001b[?25h\u001b[?25l\u001b[?25h\u001b[?25l\u001b[?25h\u001b[?25l\u001b[?25h\u001b[?25l\u001b[?25h\u001b[?25l\u001b[?25h\u001b[?25l\u001b[?25h\u001b[?25l\u001b[?25h\u001b[?25l\u001b[?25h\u001b[?25l\u001b[?25h\u001b[?25l\u001b[?25h\u001b[?25l\u001b[?25h\u001b[?25l\u001b[?25h\u001b[?25l\u001b[?25h\u001b[?25l\u001b[?25h\u001b[?25l\u001b[?25h\u001b[?25l\u001b[?25h\u001b[?25l\u001b[?25h\u001b[?25l\u001b[?25h\u001b[?25l\u001b[?25h\u001b[?25l\u001b[?25h\u001b[?25l\u001b[?25h\u001b[?25l\u001b[?25h\u001b[?25l\u001b[?25h\u001b[?25l\u001b[?25h\u001b[?25l\u001b[?25h\u001b[?25l\u001b[?25h\u001b[?25l\u001b[?25h\u001b[?25l\u001b[?25h\u001b[?25l\u001b[?25h\u001b[?25l\u001b[?25h\u001b[?25l\u001b[?25h\u001b[?25l\u001b[?25h\u001b[?25l\u001b[?25h\u001b[?25l\u001b[?25h\u001b[?25l\u001b[?25h\u001b[?25l\u001b[?25h\u001b[?25l\u001b[?25h\u001b[?25l\u001b[?25h\u001b[?25l\u001b[?25h\u001b[?25l\u001b[?25h\u001b[?25l\u001b[?25h\u001b[?25l\u001b[?25h\u001b[?25l\u001b[?25h\u001b[?25l\u001b[?25h\u001b[?25l\u001b[?25h\u001b[?25l\u001b[?25h\u001b[?25l\u001b[?25h\u001b[?25l\u001b[?25h\u001b[?25l\u001b[?25h\u001b[?25l\u001b[?25h\u001b[?25l\u001b[?25h\u001b[?25l\u001b[?25h\u001b[?25l\u001b[?25h\u001b[?25l\u001b[?25h\u001b[?25l\u001b[?25h\u001b[?25l\u001b[?25h\u001b[?25l\u001b[?25h\u001b[?25l\u001b[?25h\u001b[?25l\u001b[?25h\u001b[?25l\u001b[?25h\u001b[?25l\u001b[?25h\u001b[?25l\u001b[?25h\u001b[?25l\u001b[?25h\u001b[?25l\u001b[?25h\u001b[?25l\u001b[?25h\u001b[?25l\u001b[?25h\u001b[?25l\u001b[?25h\u001b[?25l\u001b[?25h\u001b[?25l\u001b[?25h\u001b[?25l\u001b[?25h\u001b[?25l\u001b[?25h\u001b[?25l\u001b[?25h\u001b[?25l\u001b[?25h\u001b[?25l\u001b[?25h\u001b[?25l\u001b[?25h\u001b[?25l\u001b[?25h\u001b[?25l\u001b[?25h\u001b[?25l\u001b[?25h\u001b[?25l\u001b[?25h\u001b[?25l\u001b[?25h\u001b[?25l\u001b[?25h\u001b[?25l\u001b[?25h\u001b[?25l\u001b[?25h\u001b[?25l\u001b[?25h\u001b[?25l\u001b[?25h\u001b[?25l\u001b[?25h\u001b[?25l\u001b[?25h\u001b[?25l\u001b[?25h\u001b[?25l\u001b[?25h\u001b[?25l\u001b[?25h\u001b[?25l\u001b[?25h\u001b[?25l\u001b[?25h\u001b[?25l\u001b[?25h\u001b[?25l\u001b[?25h\u001b[?25l\u001b[?25h\u001b[?25l\u001b[?25h\u001b[?25l\u001b[?25h\u001b[?25l\u001b[?25h\u001b[?25l\u001b[?25h\u001b[?25l\u001b[?25h\u001b[?25l\u001b[?25h\u001b[?25l\u001b[?25h\u001b[?25l\u001b[?25h\u001b[?25l\u001b[?25h\u001b[?25l\u001b[?25h\u001b[?25l\u001b[?25h\u001b[?25l\u001b[?25h\u001b[?25l\u001b[?25h\u001b[?25l\u001b[?25h\u001b[?25l\u001b[?25h\u001b[?25l\u001b[?25h\u001b[?25l\u001b[?25h\u001b[?25l\u001b[?25h\u001b[?25l\u001b[?25h\u001b[?25l\u001b[?25h\u001b[?25l\u001b[?25h\u001b[?25l\u001b[?25h\u001b[?25l\u001b[?25h\u001b[?25l\u001b[?25h\u001b[?25l\u001b[?25h\u001b[?25l\u001b[?25h\u001b[?25l\u001b[?25h\u001b[?25l\u001b[?25h\u001b[?25l\u001b[?25h\u001b[?25l\u001b[?25h\u001b[?25l\u001b[?25h\u001b[?25l\u001b[?25h\u001b[?25l\u001b[?25h\u001b[?25l\u001b[?25h\u001b[?25l\u001b[?25h\u001b[?25l\u001b[?25h\u001b[?25l\u001b[?25h\u001b[?25l\u001b[?25h\u001b[?25l\u001b[?25h\u001b[?25l\u001b[?25h\u001b[?25l\u001b[?25h\u001b[?25l\u001b[?25h\u001b[?25l\u001b[?25h\u001b[?25l\u001b[?25h\u001b[?25l\u001b[?25h\u001b[?25l\u001b[?25h\u001b[?25l\u001b[?25h\u001b[?25l\u001b[?25h\u001b[?25l\u001b[?25h\u001b[?25l\u001b[?25h\u001b[?25l\u001b[?25h\u001b[?25l\u001b[?25h\u001b[?25l\u001b[?25h\u001b[?25l\u001b[?25h\u001b[?25l\u001b[?25h\u001b[?25l\u001b[?25h\u001b[?25l\u001b[?25h\u001b[?25l\u001b[?25h\u001b[?25l\u001b[?25h\u001b[?25l\u001b[?25h\u001b[?25l\u001b[?25h\u001b[?25l\u001b[?25h\u001b[?25l\u001b[?25h\u001b[?25l\u001b[?25h\u001b[?25l\u001b[?25h\u001b[?25l\u001b[?25h\u001b[?25l\u001b[?25h\u001b[?25l\u001b[?25h\u001b[?25l\u001b[?25h\u001b[?25l\u001b[?25h\u001b[?25l\u001b[?25h\u001b[?25l\u001b[?25h\u001b[?25l\u001b[?25h\u001b[?25l\u001b[?25h\u001b[?25l\u001b[?25h\u001b[?25l\u001b[?25h\u001b[?25l\u001b[?25h\u001b[?25l\u001b[?25h\u001b[?25l\u001b[?25h\u001b[?25l\u001b[?25h\u001b[?25l\u001b[?25h\u001b[?25l\u001b[?25h\u001b[?25l\u001b[?25h\u001b[?25l\u001b[?25h\u001b[?25l\u001b[?25h\u001b[?25l\u001b[?25h\u001b[?25l\u001b[?25h\u001b[?25l\u001b[?25h\u001b[?25l\u001b[?25h\u001b[?25l\u001b[?25h\u001b[?25l\u001b[?25h\u001b[?25l\u001b[?25h\u001b[?25l\u001b[?25h\u001b[?25l\u001b[?25h\u001b[?25l\u001b[?25h\u001b[?25l\u001b[?25h\u001b[?25l\u001b[?25h\u001b[?25l\u001b[?25h\u001b[?25l\u001b[?25h\u001b[?25l\u001b[?25h\u001b[?25l\u001b[?25h\u001b[?25l\u001b[?25h\u001b[?25l\u001b[?25h\u001b[?25l\u001b[?25h\u001b[?25l\u001b[?25h\u001b[?25l\u001b[?25h\u001b[?25l\u001b[?25h\u001b[?25l\u001b[?25h\u001b[?25l\u001b[?25h\u001b[?25l\u001b[?25h\u001b[?25l\u001b[?25h\u001b[?25l\u001b[?25h\u001b[?25l\u001b[?25h\u001b[?25l\u001b[?25h\u001b[?25l\u001b[?25h\u001b[?25l\u001b[?25h\u001b[?25l\u001b[?25h\u001b[?25l\u001b[?25h\u001b[?25l\u001b[?25h\u001b[?25l\u001b[?25h\u001b[?25l\u001b[?25h\u001b[?25l\u001b[?25h\u001b[?25l\u001b[?25h\u001b[?25l\u001b[?25h\u001b[?25l\u001b[?25h\u001b[?25l\u001b[?25h\u001b[?25l\u001b[?25h\u001b[?25l\u001b[?25h\u001b[?25l\u001b[?25h\u001b[?25l\u001b[?25h\u001b[?25l\u001b[?25h\u001b[?25l\u001b[?25h\u001b[?25l\u001b[?25h\u001b[?25l\u001b[?25h\u001b[?25l\u001b[?25h\u001b[?25l\u001b[?25h\u001b[?25l\u001b[?25h\u001b[?25l\u001b[?25h\u001b[?25l\u001b[?25h\u001b[?25l\u001b[?25h\u001b[?25l\u001b[?25h\u001b[?25l\u001b[?25h\u001b[?25l\u001b[?25h\u001b[?25l\u001b[?25h\u001b[?25l\u001b[?25h\u001b[?25l\u001b[?25h\u001b[?25l\u001b[?25h\u001b[?25l\u001b[?25h\u001b[?25l\u001b[?25h\u001b[?25l\u001b[?25h\u001b[?25l\u001b[?25h\u001b[?25l\u001b[?25h\u001b[?25l\u001b[?25h\u001b[?25l\u001b[?25h\u001b[?25l\u001b[?25h\u001b[?25l\u001b[?25h\u001b[?25l\u001b[?25h\u001b[?25l\u001b[?25h\u001b[?25l\u001b[?25h\u001b[?25l\u001b[?25h\u001b[?25l\u001b[?25h\u001b[?25l\u001b[?25h\u001b[?25l\u001b[?25h\u001b[?25l\u001b[?25h\u001b[?25l\u001b[?25h\u001b[?25l\u001b[?25h\u001b[?25l\u001b[?25h\u001b[?25l\u001b[?25h\u001b[?25l\u001b[?25h\u001b[?25l\u001b[?25h\u001b[?25l\u001b[?25h\u001b[?25l\u001b[?25h\u001b[?25l\u001b[?25h\u001b[?25l\u001b[?25h\u001b[?25l\u001b[?25h\u001b[?25l\u001b[?25h\u001b[?25l\u001b[?25h\u001b[?25l\u001b[?25h\u001b[?25l\u001b[?25h\u001b[?25l\u001b[?25h\u001b[?25l\u001b[?25h\u001b[?25l\u001b[?25h\u001b[?25l\u001b[?25h\u001b[?25l\u001b[?25h\u001b[?25l\u001b[?25h"
     ]
    },
    {
     "data": {
      "text/markdown": [
       "> Here is a new recipe generated based on the ingredient document and required ingredients:\n",
       "> \n",
       "> **Tropical Sunset Chicken Cakes with Rose Petal Glaze**\n",
       "> \n",
       "> Ingredients:\n",
       "> \n",
       "> * 1 lb boneless, skinless chicken breasts\n",
       "> * 1/2 cup almond flour\n",
       "> * 1/4 cup coconut sugar\n",
       "> * 2 tablespoons matcha powder\n",
       "> * 1 teaspoon pink Himalayan salt\n",
       "> * 1/4 cup grass-fed butter, softened\n",
       "> * 1/2 cup almond milk\n",
       "> * 2 duck eggs\n",
       "> * 1 tablespoon Madagascar bourbon vanilla extract\n",
       "> * 1/4 cup edible rose petals\n",
       "> * 1/2 cup dark chocolate chunks\n",
       "> \n",
       "> Cooking Instructions:\n",
       "> \n",
       "> Step 1: Prepare the Chicken Cakes\n",
       "> Preheat oven to 375°F (190°C). In a bowl, combine chicken breasts, almond flour, coconut sugar, matcha powder, pink Himalayan salt, and vanilla extract. Mix until well combined.\n",
       "> \n",
       "> Step 2: Shape the Cakes\n",
       "> Divide the mixture into 4-6 portions, depending on desired cake size. Shape each portion into a patty.\n",
       "> \n",
       "> Step 3: Cook the Cakes\n",
       "> Place the patties onto a baking sheet lined with parchment paper. Drizzle with grass-fed butter and sprinkle with edible rose petals. Bake for 20-25 minutes or until cooked through.\n",
       "> \n",
       "> Step 4: Glaze and Serve\n",
       "> While the cakes are still warm, drizzle with a glaze made from melted dark chocolate chunks and almond milk (1 part chocolate to 2 parts milk). Let cool slightly before serving.\n",
       "> \n",
       "> Warning:\n",
       "> * Please note that edible rose petals may cause allergic reactions or digestive issues in some individuals. If you have any concerns, please omit this ingredient.\n",
       "> * Grass-fed butter is not suitable for those with dairy allergies. Alternative options can be used as a substitute.\n",
       "> * Matcha powder may cause caffeine sensitivity issues. Consume responsibly.\n",
       "> \n",
       "> Enjoy your Tropical Sunset Chicken Cakes with Rose Petal Glaze!\n",
       "> \n"
      ],
      "text/plain": [
       "<IPython.core.display.Markdown object>"
      ]
     },
     "execution_count": 31,
     "metadata": {},
     "output_type": "execute_result"
    }
   ],
   "source": [
    "os.environ[\"TOKENIZERS_PARALLELISM\"] = \"false\"\n",
    "\n",
    "prompt = f'''\n",
    "Ingredient document: {ingredients_doc}\n",
    "cooking direction: {directions_doc}\n",
    "recipe format: {recipe_format}\n",
    "required ingredient: {query}\n",
    "\n",
    "Imagine you are a creative and trustworthy recipe generator acting as an assistant. You offer help with generating new and delicious recipes.\n",
    "Based on the ingredient document, required ingredients and cooking direction. Generate a new recipe with creative and interesting recipe title. \n",
    "Make sure it follows the {recipe_format}.\n",
    "\n",
    "Add a warning secton at the end of the recipe if some elements in the {query} are non-eatable.\n",
    "If any ingredients in the {query} are inedible or cause allergic reactons, then add it in warning section.\n",
    "\n",
    "\"Remove any unnecessary greetings or conversation; provide only the recipe.\"\n",
    "'''\n",
    "response = query_llm(prompt)\n",
    "to_markdown(response)"
   ]
  }
 ],
 "metadata": {
  "kernelspec": {
   "display_name": "base",
   "language": "python",
   "name": "python3"
  },
  "language_info": {
   "codemirror_mode": {
    "name": "ipython",
    "version": 3
   },
   "file_extension": ".py",
   "mimetype": "text/x-python",
   "name": "python",
   "nbconvert_exporter": "python",
   "pygments_lexer": "ipython3",
   "version": "3.11.0"
  }
 },
 "nbformat": 4,
 "nbformat_minor": 2
}
